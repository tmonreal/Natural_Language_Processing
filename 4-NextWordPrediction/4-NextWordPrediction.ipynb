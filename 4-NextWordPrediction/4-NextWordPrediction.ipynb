{
 "cells": [
  {
   "cell_type": "markdown",
   "metadata": {
    "id": "g3yeJGnCYxuF"
   },
   "source": [
    "<img src=\"https://github.com/hernancontigiani/ceia_memorias_especializacion/raw/master/Figures/logoFIUBA.jpg\" width=\"500\" align=\"center\">\n",
    "\n",
    "\n",
    "# Procesamiento de lenguaje natural\n",
    "## Predicción de próxima palabra"
   ]
  },
  {
   "cell_type": "markdown",
   "metadata": {
    "id": "Iv5PEwGzZA9-"
   },
   "source": [
    "### Objetivo\n",
    "El objetivo es utilizar documentos / corpus para crear embeddings de palabras basado en ese contexto utilizando la layer Embedding de Keras. Se utilizará esos embeddings junto con layers LSTM para predeccir la próxima posible palabra."
   ]
  },
  {
   "cell_type": "code",
   "execution_count": 20,
   "metadata": {
    "id": "Y-QdFbHZYj7C"
   },
   "outputs": [],
   "source": [
    "import random\n",
    "import io\n",
    "import pickle\n",
    "from urllib import request\n",
    "import re\n",
    "\n",
    "import numpy as np\n",
    "import pandas as pd\n",
    "import matplotlib.pyplot as plt\n",
    "import seaborn as sns\n",
    "\n",
    "from tensorflow import keras\n",
    "from tensorflow.keras import layers\n",
    "from keras.utils.np_utils import to_categorical\n",
    "from keras.models import Sequential\n",
    "from keras.layers import Dense, LSTM, Embedding, Dropout, Bidirectional\n",
    "from keras.preprocessing.text import Tokenizer # equivalente a ltokenizer de nltk\n",
    "from keras.preprocessing.text import text_to_word_sequence # equivalente a word_tokenize de nltk\n",
    "from keras.utils import pad_sequences # se utilizará para padding\n",
    "from tensorflow.keras.optimizers import Adam"
   ]
  },
  {
   "cell_type": "markdown",
   "metadata": {
    "id": "xTvXlEKQZdqx"
   },
   "source": [
    "### Datos\n",
    "Utilizaremos como dataset los 3 volúmenes del libro \"*General Anatomy applied to physiology and medicine*\" de Xavier Bichat, los cuáles se obtienen en la página de [Project Gutenberg](https://www.gutenberg.org/ebooks/search/?query=GENERAL+ANATOMY+APPLIED+TO+PHYSIOLOGY+AND+MEDICINE&submit_search=Go%21)."
   ]
  },
  {
   "cell_type": "code",
   "execution_count": 2,
   "metadata": {},
   "outputs": [
    {
     "data": {
      "text/html": [
       "<div>\n",
       "<style scoped>\n",
       "    .dataframe tbody tr th:only-of-type {\n",
       "        vertical-align: middle;\n",
       "    }\n",
       "\n",
       "    .dataframe tbody tr th {\n",
       "        vertical-align: top;\n",
       "    }\n",
       "\n",
       "    .dataframe thead th {\n",
       "        text-align: right;\n",
       "    }\n",
       "</style>\n",
       "<table border=\"1\" class=\"dataframe\">\n",
       "  <thead>\n",
       "    <tr style=\"text-align: right;\">\n",
       "      <th></th>\n",
       "      <th>Oracion</th>\n",
       "    </tr>\n",
       "  </thead>\n",
       "  <tbody>\n",
       "    <tr>\n",
       "      <th>0</th>\n",
       "      <td>, VOL 1 ***\\n\\n\\n\\n\\n\\n\\n\\n\\n\\nProduced by Son...</td>\n",
       "    </tr>\n",
       "    <tr>\n",
       "      <th>1</th>\n",
       "      <td>pgdp</td>\n",
       "    </tr>\n",
       "    <tr>\n",
       "      <th>2</th>\n",
       "      <td>net (This\\n\\nfile was produced from images gen...</td>\n",
       "    </tr>\n",
       "    <tr>\n",
       "      <th>3</th>\n",
       "      <td>X\\n\\n\\n\\n_Published by Richardson &amp; Lord, Boston</td>\n",
       "    </tr>\n",
       "    <tr>\n",
       "      <th>4</th>\n",
       "      <td>_]\\n\\n\\n\\n\\n\\n\\n\\n\\n\\n                        ...</td>\n",
       "    </tr>\n",
       "  </tbody>\n",
       "</table>\n",
       "</div>"
      ],
      "text/plain": [
       "                                             Oracion\n",
       "0  , VOL 1 ***\\n\\n\\n\\n\\n\\n\\n\\n\\n\\nProduced by Son...\n",
       "1                                               pgdp\n",
       "2  net (This\\n\\nfile was produced from images gen...\n",
       "3   X\\n\\n\\n\\n_Published by Richardson & Lord, Boston\n",
       "4  _]\\n\\n\\n\\n\\n\\n\\n\\n\\n\\n                        ..."
      ]
     },
     "execution_count": 2,
     "metadata": {},
     "output_type": "execute_result"
    }
   ],
   "source": [
    "# Leo el libro del archivo txt\n",
    "with open('book.txt', 'r', encoding='utf-8') as file:\n",
    "    text = file.read()\n",
    "\n",
    "# Separo el texto en oraciones, las cuales se separan mediante un punto ('.')\n",
    "sentences = text.split('.')\n",
    "\n",
    "# Creo un dataframe que contiene las oraciones\n",
    "df = pd.DataFrame({'Oracion': sentences})\n",
    "\n",
    "df.head()"
   ]
  },
  {
   "cell_type": "code",
   "execution_count": 3,
   "metadata": {},
   "outputs": [
    {
     "data": {
      "text/plain": [
       "4500    \\n\\nThe cerebral which accompany them, furnish...\n",
       "4501     There is merely juxta position as we see it i...\n",
       "4502    \\n\\n\\n\\nI cannot repeat it too much, that the ...\n",
       "4503                           \\n\\n\\n\\n\\n\\nARTICLE FOURTH\n",
       "4504    \\n\\n\\n\\nPROPERTIES OF THE VASCULAR SYSTEM WITH...\n",
       "4505    \\n\\n\\n\\nWhat we have to say of these propertie...\n",
       "4506     In fact the\\n\\nfleshy parietes of the heart a...\n",
       "4507     As to those of the common membrane they are n...\n",
       "4508    \\n\\n\\n\\nI shall consider the properties of the...\n",
       "4509                                        \\n\\n\\n\\n\\n\\nI\n",
       "Name: Oracion, dtype: object"
      ]
     },
     "execution_count": 3,
     "metadata": {},
     "output_type": "execute_result"
    }
   ],
   "source": [
    "# Analizo 10 oraciones\n",
    "df['Oracion'][4500:4510]"
   ]
  },
  {
   "cell_type": "markdown",
   "metadata": {},
   "source": [
    "Se puede observar que las oraciones presentan muchos caractéres, números y símbolos que deben ser preprocesados."
   ]
  },
  {
   "cell_type": "code",
   "execution_count": 4,
   "metadata": {
    "id": "riT898QlZnmF"
   },
   "outputs": [
    {
     "name": "stdout",
     "output_type": "stream",
     "text": [
      "Cantidad de documentos: 19184\n"
     ]
    }
   ],
   "source": [
    "print(\"Cantidad de documentos:\", df.shape[0])"
   ]
  },
  {
   "cell_type": "markdown",
   "metadata": {
    "id": "RDoouHp7Zp6D"
   },
   "source": [
    "### 1 - Preprocesamiento\n",
    "- Primero, se preprocesa el texto.\n",
    "- Luego, se transforman las oraciones en tokens.\n",
    "- Además, hay que ajustarlas las oraciones al tamaño fijo de nuestra sentencia de entrada al modelo.\n",
    "- Finalmente, se separan las palabras objetivos (target) que el modelo debe predecir en cada sentencia armada."
   ]
  },
  {
   "cell_type": "code",
   "execution_count": 5,
   "metadata": {},
   "outputs": [
    {
     "data": {
      "text/plain": [
       "[' the cerebral which accompany them furnish hardly any filaments to the arteries',\n",
       " ' there is merely juxta position as we see it in the extremities in the intercostal spaces c',\n",
       " ' i cannot repeat it too much that the constant relation of the arteries with the nervous system of the ganglions deserves the attention of physiologists because it is too general not to belong to some great object of the functions of the economy though the object may be unknown',\n",
       " ' article fourth',\n",
       " ' properties of the vascular system with red blood',\n",
       " ' what we have to say of these properties will refer particularly to the arteries as well as what we have said of the organization',\n",
       " ' in fact the fleshy parietes of the heart and the membranous ones of the pulmonary veins possess properties that will be examined hereafter and which differ from those of the arteries on account of the difference of texture',\n",
       " ' as to those of the common membrane they are nearly the same in the whole course of the red blood the organization differing but very little',\n",
       " ' i shall consider the properties of the arteries only in the arterial texture and in the common membrane for the cellular coat belonging to the system of that name partakes of all its properties',\n",
       " ' i']"
      ]
     },
     "execution_count": 5,
     "metadata": {},
     "output_type": "execute_result"
    }
   ],
   "source": [
    "# Preprocesamiento: filtro números, espacios en blanco consecutivos y caractéres especiales\n",
    "book = [re.sub(r'[^a-zA-z.!?/\\\"\\'\\s]', ' ', sentence) for sentence in df['Oracion']]\n",
    "book = [re.sub(r'\\s+', ' ', sentence) for sentence in book]\n",
    "book = [re.sub(r'[\\_\\[\\]]', '',sentence) for sentence in book]\n",
    "book = [sentence.lower() for sentence in book]\n",
    "\n",
    "# Analizo las mismas 10 oraciones\n",
    "book[4500:4510]"
   ]
  },
  {
   "cell_type": "markdown",
   "metadata": {},
   "source": [
    "**1.1 Tokenización**\n",
    "\n",
    "Transformo las oraciones en secuencias (tokens) de palabras"
   ]
  },
  {
   "cell_type": "code",
   "execution_count": 6,
   "metadata": {
    "scrolled": true
   },
   "outputs": [
    {
     "data": {
      "text/plain": [
       "['the',\n",
       " 'cerebral',\n",
       " 'which',\n",
       " 'accompany',\n",
       " 'them',\n",
       " 'furnish',\n",
       " 'hardly',\n",
       " 'any',\n",
       " 'filaments',\n",
       " 'to',\n",
       " 'the',\n",
       " 'arteries']"
      ]
     },
     "execution_count": 6,
     "metadata": {},
     "output_type": "execute_result"
    }
   ],
   "source": [
    "# Entran oraciones y salen vectores de N posiciones (tokens)\n",
    "sentence_tokens = [text_to_word_sequence(sentence) for sentence in book]\n",
    "# Analizo como tokeniza la oración: \"the cerebral which accompany them furnish hardly any filaments to the arteries\"\n",
    "sentence_tokens[4500]"
   ]
  },
  {
   "cell_type": "markdown",
   "metadata": {},
   "source": [
    "Se crean secuencias con un largo de 4, de los cuales 3 tokens son la secuencia input al modelo y 1 corresponde a la palabra de salida a predecir"
   ]
  },
  {
   "cell_type": "code",
   "execution_count": 7,
   "metadata": {
    "id": "A659lswTbIIB"
   },
   "outputs": [
    {
     "name": "stdout",
     "output_type": "stream",
     "text": [
      "Cantidad de secuencias: 362229\n"
     ]
    }
   ],
   "source": [
    "# Largo de la secuencia: incluye seq input + word output\n",
    "train_len = 4\n",
    "\n",
    "# Desfasaje de palabras según el train_len\n",
    "text_sequences = []\n",
    "\n",
    "for sentence in sentence_tokens:\n",
    "    if len(sentence) >= train_len:\n",
    "        for i in range(train_len, len(sentence) + 1):\n",
    "            seq = sentence[i - train_len : i]\n",
    "            text_sequences.append(seq)\n",
    "\n",
    "print(f'Cantidad de secuencias: {len(text_sequences)}')"
   ]
  },
  {
   "cell_type": "code",
   "execution_count": 8,
   "metadata": {
    "id": "01JEoPPnbgRF"
   },
   "outputs": [
    {
     "data": {
      "text/plain": [
       "[['of', 'the', 'vital', 'forces'],\n",
       " ['the', 'vital', 'forces', 'to'],\n",
       " ['vital', 'forces', 'to', 'the'],\n",
       " ['forces', 'to', 'the', 'natural'],\n",
       " ['to', 'the', 'natural', 'type'],\n",
       " ['the', 'natural', 'type', 'from'],\n",
       " ['natural', 'type', 'from', 'which'],\n",
       " ['type', 'from', 'which', 'they'],\n",
       " ['from', 'which', 'they', 'have'],\n",
       " ['which', 'they', 'have', 'been']]"
      ]
     },
     "execution_count": 8,
     "metadata": {},
     "output_type": "execute_result"
    }
   ],
   "source": [
    "# Demos un vistazo a nuestros vectores para entrenar el modelo\n",
    "text_sequences[4500:4510]"
   ]
  },
  {
   "cell_type": "markdown",
   "metadata": {},
   "source": [
    "**1.2 Word2Vec**"
   ]
  },
  {
   "cell_type": "markdown",
   "metadata": {
    "id": "4B0gHnKVa4W_"
   },
   "source": [
    "A continuación, se crean los vectores de palabras para entrenar a la red.\n",
    "- El input seran integers (word2vec)\n",
    "- El output será one-hot encoded (labels) del tamaño del vocabulario"
   ]
  },
  {
   "cell_type": "code",
   "execution_count": 9,
   "metadata": {
    "id": "fkPNvXeQcS0U"
   },
   "outputs": [
    {
     "name": "stdout",
     "output_type": "stream",
     "text": [
      "Ejemplo de 10 secuencias:\n",
      " [[   2    1  141  231]\n",
      " [   1  141  231    5]\n",
      " [ 141  231    5    1]\n",
      " [ 231    5    1  195]\n",
      " [   5    1  195 1680]\n",
      " [   1  195 1680   15]\n",
      " [ 195 1680   15    9]\n",
      " [1680   15    9   19]\n",
      " [  15    9   19   17]\n",
      " [   9   19   17   71]]\n",
      "\n",
      "Tamaño del vocabulario: 7830\n",
      "\n",
      "Cantidad de documentos de entrada:362229\n"
     ]
    }
   ],
   "source": [
    "tok = Tokenizer() # el tokenizer \"aprende\" las palabras que se usarán\n",
    "tok.fit_on_texts(text_sequences) \n",
    "\n",
    "# Convertimos las palabras a números\n",
    "sequences = np.array(tok.texts_to_sequences(text_sequences))\n",
    "print(f'Ejemplo de 10 secuencias:\\n {sequences[4500:4510]}\\n')\n",
    "\n",
    "# Cantidad de veces que aparece cada palabra\n",
    "print(f'Tamaño del vocabulario: {len(tok.word_counts)}\\n')\n",
    "# Cantidad de casos (doc) de entrada\n",
    "print(f'Cantidad de documentos de entrada:{tok.document_count}')"
   ]
  },
  {
   "cell_type": "code",
   "execution_count": 10,
   "metadata": {
    "id": "ln6kVWVlwBBs"
   },
   "outputs": [
    {
     "data": {
      "text/plain": [
       "{1: 'the',\n",
       " 2: 'of',\n",
       " 3: 'in',\n",
       " 4: 'is',\n",
       " 5: 'to',\n",
       " 6: 'and',\n",
       " 7: 'that',\n",
       " 8: 'it',\n",
       " 9: 'which',\n",
       " 10: 'a',\n",
       " 11: 'are',\n",
       " 12: 'this',\n",
       " 13: 'as',\n",
       " 14: 'by',\n",
       " 15: 'from',\n",
       " 16: 'not',\n",
       " 17: 'have',\n",
       " 18: 'with',\n",
       " 19: 'they',\n",
       " 20: 'we',\n",
       " 21: 'these',\n",
       " 22: 'be',\n",
       " 23: 'upon',\n",
       " 24: 'their',\n",
       " 25: 'its',\n",
       " 26: 'an',\n",
       " 27: 'at',\n",
       " 28: 'but',\n",
       " 29: 'or',\n",
       " 30: 'blood',\n",
       " 31: 'them',\n",
       " 32: 'more',\n",
       " 33: 'all',\n",
       " 34: 'i',\n",
       " 35: 'system',\n",
       " 36: 'texture',\n",
       " 37: 'has',\n",
       " 38: 'there',\n",
       " 39: 'other',\n",
       " 40: 'for',\n",
       " 41: 'very',\n",
       " 42: 'on',\n",
       " 43: 'those',\n",
       " 44: 'when',\n",
       " 45: 'same',\n",
       " 46: 'than',\n",
       " 47: 'different',\n",
       " 48: 'only',\n",
       " 49: 'one',\n",
       " 50: 'then',\n",
       " 51: 'so',\n",
       " 52: 'organs',\n",
       " 53: 'much',\n",
       " 54: 'two',\n",
       " 55: 'first',\n",
       " 56: 'general',\n",
       " 57: 'into',\n",
       " 58: 'great',\n",
       " 59: 'less',\n",
       " 60: 'muscles',\n",
       " 61: 'if',\n",
       " 62: 'part',\n",
       " 63: 'cellular',\n",
       " 64: 'no',\n",
       " 65: 'animal',\n",
       " 66: 'each',\n",
       " 67: 'place',\n",
       " 68: 'many',\n",
       " 69: 'can',\n",
       " 70: 'mucous',\n",
       " 71: 'been',\n",
       " 72: 'organic',\n",
       " 73: 'between',\n",
       " 74: 'also',\n",
       " 75: 'would',\n",
       " 76: 'see',\n",
       " 77: 'nerves',\n",
       " 78: 'action',\n",
       " 79: 'always',\n",
       " 80: 'life',\n",
       " 81: 'state',\n",
       " 82: 'especially',\n",
       " 83: 'arteries',\n",
       " 84: 'fluid',\n",
       " 85: 'parts',\n",
       " 86: 'even',\n",
       " 87: 'skin',\n",
       " 88: 'often',\n",
       " 89: 'organ',\n",
       " 90: 'does',\n",
       " 91: 'almost',\n",
       " 92: 'vessels',\n",
       " 93: 'some',\n",
       " 94: 'sensibility',\n",
       " 95: 'membrane',\n",
       " 96: 'time',\n",
       " 97: 'do',\n",
       " 98: 'without',\n",
       " 99: 'like',\n",
       " 100: 'any',\n",
       " 101: 'most',\n",
       " 102: 'fluids',\n",
       " 103: 'may',\n",
       " 104: 'form',\n",
       " 105: 'after',\n",
       " 106: 'surface',\n",
       " 107: 'heart',\n",
       " 108: 'motion',\n",
       " 109: 'because',\n",
       " 110: 'evident',\n",
       " 111: 'what',\n",
       " 112: 'influence',\n",
       " 113: 'serous',\n",
       " 114: 'phenomena',\n",
       " 115: 'being',\n",
       " 116: 'thus',\n",
       " 117: 'nature',\n",
       " 118: 'c',\n",
       " 119: 'out',\n",
       " 120: 'where',\n",
       " 121: 'little',\n",
       " 122: 'every',\n",
       " 123: 'will',\n",
       " 124: 'bones',\n",
       " 125: 'kind',\n",
       " 126: 'contractility',\n",
       " 127: 'sometimes',\n",
       " 128: 'surfaces',\n",
       " 129: 'veins',\n",
       " 130: 'small',\n",
       " 131: 'glands',\n",
       " 132: 'external',\n",
       " 133: 'found',\n",
       " 134: 'fibres',\n",
       " 135: 'was',\n",
       " 136: 'substance',\n",
       " 137: 'brain',\n",
       " 138: 'body',\n",
       " 139: 'diseases',\n",
       " 140: 'whole',\n",
       " 141: 'vital',\n",
       " 142: 'long',\n",
       " 143: 'membranes',\n",
       " 144: 'others',\n",
       " 145: 'know',\n",
       " 146: 'fibrous',\n",
       " 147: 'made',\n",
       " 148: 'should',\n",
       " 149: 'red',\n",
       " 150: 'seen',\n",
       " 151: 'said',\n",
       " 152: 'though',\n",
       " 153: 'appears',\n",
       " 154: 'internal',\n",
       " 155: 'capillary',\n",
       " 156: 'nervous',\n",
       " 157: 'however',\n",
       " 158: 'properties',\n",
       " 159: 'cutaneous',\n",
       " 160: 'takes',\n",
       " 161: 'muscular',\n",
       " 162: 'peculiar',\n",
       " 163: 'functions',\n",
       " 164: 'common',\n",
       " 165: 'observed',\n",
       " 166: 'phenomenon',\n",
       " 167: 'portion',\n",
       " 168: 'never',\n",
       " 169: 'quantity',\n",
       " 170: 'evidently',\n",
       " 171: 'become',\n",
       " 172: 'now',\n",
       " 173: 'take',\n",
       " 174: 'becomes',\n",
       " 175: 'bodies',\n",
       " 176: 'manner',\n",
       " 177: 'us',\n",
       " 178: 'greater',\n",
       " 179: 'cannot',\n",
       " 180: 'through',\n",
       " 181: 'certain',\n",
       " 182: 'd',\n",
       " 183: 'stomach',\n",
       " 184: 'difference',\n",
       " 185: 'motions',\n",
       " 186: 'contraction',\n",
       " 187: 'fact',\n",
       " 188: 'relation',\n",
       " 189: 'systems',\n",
       " 190: 'bone',\n",
       " 191: 'age',\n",
       " 192: 'necessary',\n",
       " 193: 'go',\n",
       " 194: 'say',\n",
       " 195: 'natural',\n",
       " 196: 'colour',\n",
       " 197: 'branches',\n",
       " 198: 'analogous',\n",
       " 199: 'were',\n",
       " 200: 'substances',\n",
       " 201: 'extremities',\n",
       " 202: 'under',\n",
       " 203: 'last',\n",
       " 204: 'remarkable',\n",
       " 205: 'example',\n",
       " 206: 'proportion',\n",
       " 207: 'shall',\n",
       " 208: 'had',\n",
       " 209: 'muscle',\n",
       " 210: 'produce',\n",
       " 211: 'number',\n",
       " 212: 'black',\n",
       " 213: 'forms',\n",
       " 214: 'whilst',\n",
       " 215: 'circulation',\n",
       " 216: 'formed',\n",
       " 217: 'according',\n",
       " 218: 'who',\n",
       " 219: 'air',\n",
       " 220: 'course',\n",
       " 221: 'why',\n",
       " 222: 'animals',\n",
       " 223: 'effect',\n",
       " 224: 'arterial',\n",
       " 225: 'appear',\n",
       " 226: 'hand',\n",
       " 227: 'increase',\n",
       " 228: 'during',\n",
       " 229: 'well',\n",
       " 230: 'make',\n",
       " 231: 'forces',\n",
       " 232: 'artery',\n",
       " 233: 'experiments',\n",
       " 234: 'observe',\n",
       " 235: 'cause',\n",
       " 236: 'cartilages',\n",
       " 237: 'nothing',\n",
       " 238: 'side',\n",
       " 239: 'second',\n",
       " 240: 'f',\n",
       " 241: 'st',\n",
       " 242: 'size',\n",
       " 243: 'contrary',\n",
       " 244: 'afterwards',\n",
       " 245: 'seat',\n",
       " 246: 'consequently',\n",
       " 247: 'osseous',\n",
       " 248: 'bladder',\n",
       " 249: 'water',\n",
       " 250: 'affections',\n",
       " 251: 'nutrition',\n",
       " 252: 'liver',\n",
       " 253: 'epidermis',\n",
       " 254: 'lungs',\n",
       " 255: 'point',\n",
       " 256: 'intestines',\n",
       " 257: 'numerous',\n",
       " 258: 'degree',\n",
       " 259: 'yet',\n",
       " 260: 'easily',\n",
       " 261: 'exhalants',\n",
       " 262: 'hence',\n",
       " 263: 'having',\n",
       " 264: 'tus',\n",
       " 265: 'frequently',\n",
       " 266: 'affected',\n",
       " 267: 'inflammation',\n",
       " 268: 'cases',\n",
       " 269: 'absorbents',\n",
       " 270: 'wholly',\n",
       " 271: 'me',\n",
       " 272: 'over',\n",
       " 273: 'origin',\n",
       " 274: 'produces',\n",
       " 275: 'least',\n",
       " 276: 'you',\n",
       " 277: 'before',\n",
       " 278: 'remains',\n",
       " 279: 'exhalation',\n",
       " 280: 'superior',\n",
       " 281: 'means',\n",
       " 282: 'arise',\n",
       " 283: 'exhibit',\n",
       " 284: 'subject',\n",
       " 285: 'arrangement',\n",
       " 286: 'living',\n",
       " 287: 'order',\n",
       " 288: 'considered',\n",
       " 289: 'must',\n",
       " 290: 'constantly',\n",
       " 291: 'cerebral',\n",
       " 292: 'cartilaginous',\n",
       " 293: 'doubt',\n",
       " 294: 'sensible',\n",
       " 295: 'how',\n",
       " 296: 'foreign',\n",
       " 297: 'produced',\n",
       " 298: 'death',\n",
       " 299: 'contact',\n",
       " 300: 'causes',\n",
       " 301: 'nearly',\n",
       " 302: 'hardly',\n",
       " 303: 'separate',\n",
       " 304: 'medullary',\n",
       " 305: 'trunks',\n",
       " 306: 'our',\n",
       " 307: 'preceding',\n",
       " 308: 'direction',\n",
       " 309: 'arises',\n",
       " 310: 'force',\n",
       " 311: 'give',\n",
       " 312: 'character',\n",
       " 313: 'articulations',\n",
       " 314: 'fat',\n",
       " 315: 'immediately',\n",
       " 316: 'old',\n",
       " 317: 'nerve',\n",
       " 318: 'considerable',\n",
       " 319: 'pulmonary',\n",
       " 320: 'three',\n",
       " 321: 'such',\n",
       " 322: 'organization',\n",
       " 323: 'act',\n",
       " 324: 'itself',\n",
       " 325: 'whose',\n",
       " 326: 'alone',\n",
       " 327: 'insensible',\n",
       " 328: 'dead',\n",
       " 329: 'tendons',\n",
       " 330: 'fleshy',\n",
       " 331: 'ones',\n",
       " 332: 'white',\n",
       " 333: 'inferior',\n",
       " 334: 'enter',\n",
       " 335: 'varieties',\n",
       " 336: 'thickness',\n",
       " 337: 'way',\n",
       " 338: 'opposite',\n",
       " 339: 'here',\n",
       " 340: 'respect',\n",
       " 341: 'entirely',\n",
       " 342: 'parietes',\n",
       " 343: 'venous',\n",
       " 344: 'thing',\n",
       " 345: 'acute',\n",
       " 346: 'sympathetic',\n",
       " 347: 'head',\n",
       " 348: 'particularly',\n",
       " 349: 'cells',\n",
       " 350: 'man',\n",
       " 351: 'still',\n",
       " 352: 'period',\n",
       " 353: 'layers',\n",
       " 354: 'developed',\n",
       " 355: 'sufficient',\n",
       " 356: 'above',\n",
       " 357: 'synovial',\n",
       " 358: 'appearance',\n",
       " 359: 'various',\n",
       " 360: 'contract',\n",
       " 361: 'trunk',\n",
       " 362: 'canal',\n",
       " 363: 'pain',\n",
       " 364: 'pass',\n",
       " 365: 'frequent',\n",
       " 366: 'think',\n",
       " 367: 'up',\n",
       " 368: 'structure',\n",
       " 369: 'urine',\n",
       " 370: 'another',\n",
       " 371: 'abdomen',\n",
       " 372: 'since',\n",
       " 373: 'gives',\n",
       " 374: 'essentially',\n",
       " 375: 'development',\n",
       " 376: 'sensation',\n",
       " 377: 'face',\n",
       " 378: 'examine',\n",
       " 379: 'account',\n",
       " 380: 'distinct',\n",
       " 381: 'absorption',\n",
       " 382: 'particular',\n",
       " 383: 'vascular',\n",
       " 384: 'remain',\n",
       " 385: 'open',\n",
       " 386: 'receive',\n",
       " 387: 'heat',\n",
       " 388: 'ganglions',\n",
       " 389: 'extent',\n",
       " 390: 'compact',\n",
       " 391: 'secretion',\n",
       " 392: 'exist',\n",
       " 393: 'property',\n",
       " 394: 'sub',\n",
       " 395: 'times',\n",
       " 396: 'his',\n",
       " 397: 'too',\n",
       " 398: 'economy',\n",
       " 399: 'separated',\n",
       " 400: 'distinguish',\n",
       " 401: 'hairs',\n",
       " 402: 'taken',\n",
       " 403: 'left',\n",
       " 404: 'enters',\n",
       " 405: 'experiment',\n",
       " 406: 'covering',\n",
       " 407: 'real',\n",
       " 408: 'sympathies',\n",
       " 409: 'owing',\n",
       " 410: 'instant',\n",
       " 411: 'disease',\n",
       " 412: 'around',\n",
       " 413: 'adult',\n",
       " 414: 'following',\n",
       " 415: 'longer',\n",
       " 416: 'case',\n",
       " 417: 'makes',\n",
       " 418: 'new',\n",
       " 419: 'exhibits',\n",
       " 420: 'large',\n",
       " 421: 'cut',\n",
       " 422: 'extremity',\n",
       " 423: 'except',\n",
       " 424: 'work',\n",
       " 425: 'true',\n",
       " 426: 'he',\n",
       " 427: 'filaments',\n",
       " 428: 'cavity',\n",
       " 429: 'ordinary',\n",
       " 430: 'length',\n",
       " 431: 'tumours',\n",
       " 432: 'textures',\n",
       " 433: 'neighbouring',\n",
       " 434: 'bile',\n",
       " 435: 'marrow',\n",
       " 436: 'glandular',\n",
       " 437: 'placed',\n",
       " 438: 'species',\n",
       " 439: 'essential',\n",
       " 440: 'authors',\n",
       " 441: 'find',\n",
       " 442: 'impulse',\n",
       " 443: 'resistance',\n",
       " 444: 'principles',\n",
       " 445: 'greatest',\n",
       " 446: 'suddenly',\n",
       " 447: 'uniform',\n",
       " 448: 'could',\n",
       " 449: 'view',\n",
       " 450: 'sudden',\n",
       " 451: 'oftentimes',\n",
       " 452: 'united',\n",
       " 453: 'hair',\n",
       " 454: 'excitement',\n",
       " 455: 'destined',\n",
       " 456: 'towards',\n",
       " 457: 'both',\n",
       " 458: 'already',\n",
       " 459: 'either',\n",
       " 460: 'prove',\n",
       " 461: 'active',\n",
       " 462: 'interior',\n",
       " 463: 'principle',\n",
       " 464: 'aponeuroses',\n",
       " 465: 'brought',\n",
       " 466: 'few',\n",
       " 467: 'soon',\n",
       " 468: 'called',\n",
       " 469: 'ligaments',\n",
       " 470: 'exterior',\n",
       " 471: 'happens',\n",
       " 472: 'articular',\n",
       " 473: 'kinds',\n",
       " 474: 'certainly',\n",
       " 475: 'result',\n",
       " 476: 'gradually',\n",
       " 477: 'difficulty',\n",
       " 478: 'cavities',\n",
       " 479: 'themselves',\n",
       " 480: 'use',\n",
       " 481: 'nutritive',\n",
       " 482: 'goes',\n",
       " 483: 'raised',\n",
       " 484: 'serum',\n",
       " 485: 'contains',\n",
       " 486: 'differences',\n",
       " 487: 'affection',\n",
       " 488: 'gelatine',\n",
       " 489: 'exists',\n",
       " 490: 'periods',\n",
       " 491: 'middle',\n",
       " 492: 'applied',\n",
       " 493: 'end',\n",
       " 494: 'contain',\n",
       " 495: 'layer',\n",
       " 496: 'divided',\n",
       " 497: 'irritation',\n",
       " 498: 'change',\n",
       " 499: 'cold',\n",
       " 500: 'short',\n",
       " 501: 'besides',\n",
       " 502: 'similar',\n",
       " 503: 'alterations',\n",
       " 504: 'constant',\n",
       " 505: 'eye',\n",
       " 506: 'gland',\n",
       " 507: 'opening',\n",
       " 508: 'birth',\n",
       " 509: 'coat',\n",
       " 510: 'present',\n",
       " 511: 'consider',\n",
       " 512: 'th',\n",
       " 513: 'ossification',\n",
       " 514: 'observation',\n",
       " 515: 'gastric',\n",
       " 516: 'pulse',\n",
       " 517: 'capillaries',\n",
       " 518: 'spread',\n",
       " 519: 'continued',\n",
       " 520: 'regard',\n",
       " 521: 'abdominal',\n",
       " 522: 'fibro',\n",
       " 523: 'consequence',\n",
       " 524: 'position',\n",
       " 525: 'caloric',\n",
       " 526: 'equal',\n",
       " 527: 'my',\n",
       " 528: 'places',\n",
       " 529: 'among',\n",
       " 530: 'infinitely',\n",
       " 531: 'might',\n",
       " 532: 'hardening',\n",
       " 533: 'convinced',\n",
       " 534: 'increased',\n",
       " 535: 'seems',\n",
       " 536: 'periosteum',\n",
       " 537: 'given',\n",
       " 538: 'contained',\n",
       " 539: 'believe',\n",
       " 540: 'rarely',\n",
       " 541: 'difficult',\n",
       " 542: 'everywhere',\n",
       " 543: 'filled',\n",
       " 544: 'mass',\n",
       " 545: 'receives',\n",
       " 546: 'exposed',\n",
       " 547: 'growth',\n",
       " 548: 'womb',\n",
       " 549: 'whether',\n",
       " 550: 'formation',\n",
       " 551: 'peritoneum',\n",
       " 552: 'right',\n",
       " 553: 'existence',\n",
       " 554: 'horny',\n",
       " 555: 'dermoid',\n",
       " 556: 'laws',\n",
       " 557: 'important',\n",
       " 558: 'chronic',\n",
       " 559: 'deep',\n",
       " 560: 'matter',\n",
       " 561: 'fine',\n",
       " 562: 'extreme',\n",
       " 563: 'belong',\n",
       " 564: 'digestion',\n",
       " 565: 'just',\n",
       " 566: 'analogy',\n",
       " 567: 'union',\n",
       " 568: 'proves',\n",
       " 569: 'proved',\n",
       " 570: 'division',\n",
       " 571: 'together',\n",
       " 572: 'contracted',\n",
       " 573: 'generally',\n",
       " 574: 'spoken',\n",
       " 575: 'principal',\n",
       " 576: 'known',\n",
       " 577: 'unite',\n",
       " 578: 'below',\n",
       " 579: 'easy',\n",
       " 580: 'belongs',\n",
       " 581: 'moveable',\n",
       " 582: 'want',\n",
       " 583: 'tendon',\n",
       " 584: 'removed',\n",
       " 585: 'cartilage',\n",
       " 586: 'bare',\n",
       " 587: 'respects',\n",
       " 588: 'activity',\n",
       " 589: 'connected',\n",
       " 590: 'power',\n",
       " 591: 'increases',\n",
       " 592: 'carried',\n",
       " 593: 'solids',\n",
       " 594: 'examined',\n",
       " 595: 'let',\n",
       " 596: 'composition',\n",
       " 597: 'alteration',\n",
       " 598: 'idea',\n",
       " 599: 'whom',\n",
       " 600: 'mater',\n",
       " 601: 'centre',\n",
       " 602: 'dilatation',\n",
       " 603: 'passes',\n",
       " 604: 'delicate',\n",
       " 605: 'cranium',\n",
       " 606: 'contracts',\n",
       " 607: 'rare',\n",
       " 608: 'contractions',\n",
       " 609: 'corresponding',\n",
       " 610: 'aorta',\n",
       " 611: 'injections',\n",
       " 612: 'finally',\n",
       " 613: 'acts',\n",
       " 614: 'agent',\n",
       " 615: 'mode',\n",
       " 616: 'ever',\n",
       " 617: 'examples',\n",
       " 618: 'commonly',\n",
       " 619: 'exactly',\n",
       " 620: 'insertion',\n",
       " 621: 'subjacent',\n",
       " 622: 'sweat',\n",
       " 623: 'name',\n",
       " 624: 'remark',\n",
       " 625: 'sensations',\n",
       " 626: 'altered',\n",
       " 627: 'come',\n",
       " 628: 'passage',\n",
       " 629: 'results',\n",
       " 630: 'parenchyma',\n",
       " 631: 'limbs',\n",
       " 632: 'portions',\n",
       " 633: 'acids',\n",
       " 634: 'painful',\n",
       " 635: 'viscera',\n",
       " 636: 'thought',\n",
       " 637: 'until',\n",
       " 638: 'off',\n",
       " 639: 'function',\n",
       " 640: 'spinal',\n",
       " 641: 'divisions',\n",
       " 642: 'occasion',\n",
       " 643: 'four',\n",
       " 644: 'abundant',\n",
       " 645: 'renders',\n",
       " 646: 'ceases',\n",
       " 647: 'communication',\n",
       " 648: 'maceration',\n",
       " 649: 'soft',\n",
       " 650: 'physical',\n",
       " 651: 'absence',\n",
       " 652: 'rather',\n",
       " 653: 'simple',\n",
       " 654: 'relations',\n",
       " 655: 'changes',\n",
       " 656: 'line',\n",
       " 657: 'vein',\n",
       " 658: 'able',\n",
       " 659: 'foot',\n",
       " 660: 'uniformly',\n",
       " 661: 'arm',\n",
       " 662: 'referred',\n",
       " 663: 'precisely',\n",
       " 664: 'varies',\n",
       " 665: 'apparent',\n",
       " 666: 'full',\n",
       " 667: 'subjects',\n",
       " 668: 'experience',\n",
       " 669: 'distinguishes',\n",
       " 670: 'points',\n",
       " 671: 'inflammations',\n",
       " 672: 'continuous',\n",
       " 673: 'differs',\n",
       " 674: 'depend',\n",
       " 675: 'articulation',\n",
       " 676: 'serves',\n",
       " 677: 'directions',\n",
       " 678: 'covered',\n",
       " 679: 'spaces',\n",
       " 680: 'neck',\n",
       " 681: 'larger',\n",
       " 682: 'valves',\n",
       " 683: 'exhalations',\n",
       " 684: 'boiling',\n",
       " 685: 'inflamed',\n",
       " 686: 'going',\n",
       " 687: 'compared',\n",
       " 688: 'vena',\n",
       " 689: 'vitality',\n",
       " 690: 'vary',\n",
       " 691: 'chorion',\n",
       " 692: 'hemorrhages',\n",
       " 693: 'voluntary',\n",
       " 694: 'base',\n",
       " 695: 'double',\n",
       " 696: 'limb',\n",
       " 697: 'smaller',\n",
       " 698: 'proof',\n",
       " 699: 'space',\n",
       " 700: 'agents',\n",
       " 701: 'far',\n",
       " 702: 'extensibility',\n",
       " 703: 'anastomoses',\n",
       " 704: 'speak',\n",
       " 705: 'really',\n",
       " 706: 'communicate',\n",
       " 707: 'thick',\n",
       " 708: 'ebullition',\n",
       " 709: 'extremely',\n",
       " 710: 'exhaled',\n",
       " 711: 'pleura',\n",
       " 712: 'capable',\n",
       " 713: 'granulations',\n",
       " 714: 'strong',\n",
       " 715: 'perform',\n",
       " 716: 'capacity',\n",
       " 717: 'secretions',\n",
       " 718: 'covers',\n",
       " 719: 'pour',\n",
       " 720: 'serve',\n",
       " 721: 'prevent',\n",
       " 722: 'presents',\n",
       " 723: 'slow',\n",
       " 724: 'pains',\n",
       " 725: 'interstices',\n",
       " 726: 'sac',\n",
       " 727: 'loose',\n",
       " 728: 'irritated',\n",
       " 729: 'single',\n",
       " 730: 'whatever',\n",
       " 731: 'reason',\n",
       " 732: 'follows',\n",
       " 733: 'put',\n",
       " 734: 'surrounding',\n",
       " 735: 'usually',\n",
       " 736: 'begins',\n",
       " 737: 'requires',\n",
       " 738: 'acid',\n",
       " 739: 'rupture',\n",
       " 740: 'impossible',\n",
       " 741: 'ought',\n",
       " 742: 'years',\n",
       " 743: 'undoubtedly',\n",
       " 744: 'temperature',\n",
       " 745: 'thousand',\n",
       " 746: 'support',\n",
       " 747: 'folds',\n",
       " 748: 'arranged',\n",
       " 749: 'irregular',\n",
       " 750: 'respiration',\n",
       " 751: 'seem',\n",
       " 752: 'moment',\n",
       " 753: 'rest',\n",
       " 754: 'arising',\n",
       " 755: 'furnish',\n",
       " 756: 'juices',\n",
       " 757: 'empty',\n",
       " 758: 'correspond',\n",
       " 759: 'ages',\n",
       " 760: 'ducts',\n",
       " 761: 'net',\n",
       " 762: 'sound',\n",
       " 763: 'intermediate',\n",
       " 764: 'adhesion',\n",
       " 765: 'perhaps',\n",
       " 766: 'comes',\n",
       " 767: 'synovia',\n",
       " 768: 'things',\n",
       " 769: 'impression',\n",
       " 770: 'opened',\n",
       " 771: 'teeth',\n",
       " 772: 'flows',\n",
       " 773: 'differ',\n",
       " 774: 'excretories',\n",
       " 775: 'object',\n",
       " 776: 'class',\n",
       " 777: 'within',\n",
       " 778: 'duct',\n",
       " 779: 'did',\n",
       " 780: 'exclusively',\n",
       " 781: 'lines',\n",
       " 782: 'ventricle',\n",
       " 783: 'sides',\n",
       " 784: 'termination',\n",
       " 785: 'principally',\n",
       " 786: 'back',\n",
       " 787: 'dura',\n",
       " 788: 'separates',\n",
       " 789: 'diminished',\n",
       " 790: 'extension',\n",
       " 791: 'ease',\n",
       " 792: 'communications',\n",
       " 793: 'degrees',\n",
       " 794: 'derangement',\n",
       " 795: 'ramifications',\n",
       " 796: 'carry',\n",
       " 797: 'instead',\n",
       " 798: 'hepatic',\n",
       " 799: 'cords',\n",
       " 800: 'facts',\n",
       " 801: 'organized',\n",
       " 802: 'putrefaction',\n",
       " 803: 'exercise',\n",
       " 804: 'predominates',\n",
       " 805: 'morbid',\n",
       " 806: 'weight',\n",
       " 807: 'equally',\n",
       " 808: 'people',\n",
       " 809: 'laid',\n",
       " 810: 'production',\n",
       " 811: 'locomotion',\n",
       " 812: 'kidneys',\n",
       " 813: 'injected',\n",
       " 814: 'remove',\n",
       " 815: 'lymphatic',\n",
       " 816: 'phosphate',\n",
       " 817: 'distended',\n",
       " 818: 'considerations',\n",
       " 819: 'thrown',\n",
       " 820: 'putrid',\n",
       " 821: 'diminishes',\n",
       " 822: 'resemble',\n",
       " 823: 'examination',\n",
       " 824: 'pores',\n",
       " 825: 'fibre',\n",
       " 826: 'suppose',\n",
       " 827: 'aliments',\n",
       " 828: 'variety',\n",
       " 829: 'solid',\n",
       " 830: 'independent',\n",
       " 831: 'depends',\n",
       " 832: 'young',\n",
       " 833: 'making',\n",
       " 834: 'continues',\n",
       " 835: 'circumstance',\n",
       " 836: 'am',\n",
       " 837: 'lose',\n",
       " 838: 'sympathetically',\n",
       " 839: 'penetrate',\n",
       " 840: 'contracting',\n",
       " 841: 'transmit',\n",
       " 842: 'establish',\n",
       " 843: 'show',\n",
       " 844: 'cease',\n",
       " 845: 'absorbent',\n",
       " 846: 'free',\n",
       " 847: 'irritating',\n",
       " 848: 'urethra',\n",
       " 849: 'physiology',\n",
       " 850: 'fevers',\n",
       " 851: 'tubes',\n",
       " 852: 'own',\n",
       " 853: 'effects',\n",
       " 854: 'insulated',\n",
       " 855: 'scarcely',\n",
       " 856: 'secreted',\n",
       " 857: 'continuity',\n",
       " 858: 'broad',\n",
       " 859: 'injection',\n",
       " 860: 'sciences',\n",
       " 861: 'cutting',\n",
       " 862: 'grow',\n",
       " 863: 'tendinous',\n",
       " 864: 're',\n",
       " 865: 'modifications',\n",
       " 866: 'salivary',\n",
       " 867: 'marked',\n",
       " 868: 'while',\n",
       " 869: 'nor',\n",
       " 870: 'flow',\n",
       " 871: 'diseased',\n",
       " 872: 'distinguished',\n",
       " 873: 'classes',\n",
       " 874: 'pus',\n",
       " 875: 'weakness',\n",
       " 876: 'penetrated',\n",
       " 877: 'convulsions',\n",
       " 878: 'wounds',\n",
       " 879: 'fatty',\n",
       " 880: 'tinge',\n",
       " 881: 'against',\n",
       " 882: 'thorax',\n",
       " 883: 'superficial',\n",
       " 884: 'changed',\n",
       " 885: 'derived',\n",
       " 886: 'energy',\n",
       " 887: 'passive',\n",
       " 888: 'pelvis',\n",
       " 889: 'dilated',\n",
       " 890: 'drawn',\n",
       " 891: 'leave',\n",
       " 892: 'redness',\n",
       " 893: 'infant',\n",
       " 894: 'lime',\n",
       " 895: 'refer',\n",
       " 896: 'inverse',\n",
       " 897: 'necessarily',\n",
       " 898: 'anterior',\n",
       " 899: 'auricle',\n",
       " 900: 'felt',\n",
       " 901: 'surrounds',\n",
       " 902: 'follow',\n",
       " 903: 'fixed',\n",
       " 904: 'penetrates',\n",
       " 905: 'connexion',\n",
       " 906: 'attached',\n",
       " 907: 'opinion',\n",
       " 908: 'pulp',\n",
       " 909: 'uses',\n",
       " 910: 'pressure',\n",
       " 911: 'respective',\n",
       " 912: 'variable',\n",
       " 913: 'susceptible',\n",
       " 914: 'reduced',\n",
       " 915: 'detached',\n",
       " 916: 'posterior',\n",
       " 917: 'elongations',\n",
       " 918: 'viscus',\n",
       " 919: 'wound',\n",
       " 920: 'vessel',\n",
       " 921: 'anatomy',\n",
       " 922: 'dropsies',\n",
       " 923: 'mechanical',\n",
       " 924: 'materials',\n",
       " 925: 'ductus',\n",
       " 926: 'touch',\n",
       " 927: 'experiences',\n",
       " 928: 'supposes',\n",
       " 929: 'yield',\n",
       " 930: 'physicians',\n",
       " 931: 'again',\n",
       " 932: 'hardness',\n",
       " 933: 'appeared',\n",
       " 934: 'half',\n",
       " 935: 'rapidity',\n",
       " 936: 'employed',\n",
       " 937: 'diminution',\n",
       " 938: 'continually',\n",
       " 939: 'slight',\n",
       " 940: 'loses',\n",
       " 941: 'effort',\n",
       " 942: 'contributes',\n",
       " 943: 'wanting',\n",
       " 944: 'consistence',\n",
       " 945: 'arachnoides',\n",
       " 946: 'feel',\n",
       " 947: 'direct',\n",
       " 948: 'symptoms',\n",
       " 949: 'perceive',\n",
       " 950: 'eminences',\n",
       " 951: 'capsules',\n",
       " 952: 'myself',\n",
       " 953: 'moreover',\n",
       " 954: 'proper',\n",
       " 955: 'pointed',\n",
       " 956: 'comparison',\n",
       " 957: 'terminate',\n",
       " 958: 'elasticity',\n",
       " 959: 'treating',\n",
       " 960: 'affect',\n",
       " 961: 'lost',\n",
       " 962: 'introduced',\n",
       " 963: 'situated',\n",
       " 964: 'rapid',\n",
       " 965: 'transparent',\n",
       " 966: 'irritate',\n",
       " 967: 'attention',\n",
       " 968: 'relative',\n",
       " 969: 'stimuli',\n",
       " 970: 'passions',\n",
       " 971: 'nose',\n",
       " 972: 'tendency',\n",
       " 973: 'reddish',\n",
       " 974: 'mouth',\n",
       " 975: 'progress',\n",
       " 976: 'exhalant',\n",
       " 977: 'spleen',\n",
       " 978: 'escape',\n",
       " 979: 'understand',\n",
       " 980: 'coming',\n",
       " 981: 'ganglion',\n",
       " 982: 'begin',\n",
       " 983: 'diminish',\n",
       " 984: 'forming',\n",
       " 985: 'atmosphere',\n",
       " 986: 'neighbourhood',\n",
       " 987: 'primitive',\n",
       " 988: 'flat',\n",
       " 989: 'contribute',\n",
       " 990: 'him',\n",
       " 991: 'dry',\n",
       " 992: 'physiological',\n",
       " 993: 'composed',\n",
       " 994: 'destitute',\n",
       " 995: 'separation',\n",
       " 996: 'circumstances',\n",
       " 997: 'proofs',\n",
       " 998: 'done',\n",
       " 999: 'notwithstanding',\n",
       " 1000: 'lower',\n",
       " ...}"
      ]
     },
     "execution_count": 10,
     "metadata": {},
     "output_type": "execute_result"
    }
   ],
   "source": [
    "# Palabras del vocabulario\n",
    "tok.index_word"
   ]
  },
  {
   "cell_type": "code",
   "execution_count": 11,
   "metadata": {},
   "outputs": [],
   "source": [
    "total_words = len(tok.index_word)+1"
   ]
  },
  {
   "cell_type": "markdown",
   "metadata": {
    "id": "QMVP4bj0vL2e"
   },
   "source": [
    "### 2 - Input y target"
   ]
  },
  {
   "cell_type": "markdown",
   "metadata": {},
   "source": [
    "Separamos las secuencias: \n",
    "  - Entrada: los primeros 3 valores de la secuencia.\n",
    "  - Salida: último valor de la secuencia."
   ]
  },
  {
   "cell_type": "code",
   "execution_count": 12,
   "metadata": {
    "scrolled": true
   },
   "outputs": [
    {
     "name": "stdout",
     "output_type": "stream",
     "text": [
      "SECUENCIA 4500 = Input:[  2   1 141], Target:[231]\n",
      "SECUENCIA 4501 = Input:[  1 141 231], Target:[5]\n",
      "SECUENCIA 4502 = Input:[141 231   5], Target:[1]\n",
      "SECUENCIA 4503 = Input:[231   5   1], Target:[195]\n",
      "SECUENCIA 4504 = Input:[  5   1 195], Target:[1680]\n",
      "SECUENCIA 4505 = Input:[   1  195 1680], Target:[15]\n",
      "SECUENCIA 4506 = Input:[ 195 1680   15], Target:[9]\n",
      "SECUENCIA 4507 = Input:[1680   15    9], Target:[19]\n",
      "SECUENCIA 4508 = Input:[15  9 19], Target:[17]\n",
      "SECUENCIA 4509 = Input:[ 9 19 17], Target:[71]\n",
      "SECUENCIA 4510 = Input:[19 17 71], Target:[1491]\n",
      "\n",
      "Tamaño de entrada: (362229, 3)\n",
      "Tamaño de salida: (362229,)\n"
     ]
    }
   ],
   "source": [
    "X = sequences[:, :-1] # todos los rows, menos la ultima col\n",
    "y = sequences[:, -1] # última col de cada row\n",
    "\n",
    "for i in range(4500,4511):\n",
    "    print(f'SECUENCIA {i} = Input:{X[i]}, Target:{[y[i]]}')\n",
    "    \n",
    "print(f'\\nTamaño de entrada: {X.shape}')\n",
    "print(f'Tamaño de salida: {y.shape}')"
   ]
  },
  {
   "cell_type": "markdown",
   "metadata": {},
   "source": [
    "**2.1 One Hot Encoding**"
   ]
  },
  {
   "cell_type": "markdown",
   "metadata": {},
   "source": [
    "Transformo los datos de salida con One-hot Encoding. "
   ]
  },
  {
   "cell_type": "code",
   "execution_count": 13,
   "metadata": {
    "id": "wKV85M2uwKJ9"
   },
   "outputs": [
    {
     "data": {
      "text/plain": [
       "(362229, 7831)"
      ]
     },
     "execution_count": 13,
     "metadata": {},
     "output_type": "execute_result"
    }
   ],
   "source": [
    "y = to_categorical(y-1, num_classes = total_words)\n",
    "y.shape"
   ]
  },
  {
   "cell_type": "markdown",
   "metadata": {
    "id": "GmJWNyxQwfCE"
   },
   "source": [
    "### 3 - Entrenamiento del modelo"
   ]
  },
  {
   "cell_type": "code",
   "execution_count": 19,
   "metadata": {
    "id": "0cOmNZT_weK2"
   },
   "outputs": [],
   "source": [
    "# Largo de la secuencia de entrada\n",
    "input_seq_len = X.shape[1] \n",
    "# Largo del vector de salida \n",
    "output_size = total_words"
   ]
  },
  {
   "cell_type": "code",
   "execution_count": 24,
   "metadata": {
    "id": "jzTZRXrrwrvi"
   },
   "outputs": [
    {
     "name": "stdout",
     "output_type": "stream",
     "text": [
      "Model: \"sequential_2\"\n",
      "_________________________________________________________________\n",
      " Layer (type)                Output Shape              Param #   \n",
      "=================================================================\n",
      " embedding_2 (Embedding)     (None, 3, 5)              39155     \n",
      "                                                                 \n",
      " bidirectional_2 (Bidirectio  (None, 300)              187200    \n",
      " nal)                                                            \n",
      "                                                                 \n",
      " dense_2 (Dense)             (None, 7831)              2357131   \n",
      "                                                                 \n",
      "=================================================================\n",
      "Total params: 2,583,486\n",
      "Trainable params: 2,583,486\n",
      "Non-trainable params: 0\n",
      "_________________________________________________________________\n"
     ]
    }
   ],
   "source": [
    "# Defino el modelo\n",
    "model = Sequential()\n",
    "\n",
    "model.add(Embedding(input_dim = total_words, \n",
    "                    output_dim = 5, \n",
    "                    input_length = input_seq_len))\n",
    "\n",
    "model.add(Bidirectional(LSTM(150)))\n",
    "model.add(Dense(output_size, activation='softmax'))\n",
    "\n",
    "# Clasificación multiple categórica --> loss = categorical_crossentropy\n",
    "adam = Adam(learning_rate=0.01)\n",
    "model.compile(loss='categorical_crossentropy', optimizer=adam, metrics=['accuracy'])\n",
    "\n",
    "model.summary()"
   ]
  },
  {
   "cell_type": "markdown",
   "metadata": {},
   "source": [
    "Puesto que se tienen muchos parámetros a entrenar y muchos datos por procesar, se decide hacer un entrenamiento solamente durante 10 épocas."
   ]
  },
  {
   "cell_type": "code",
   "execution_count": 25,
   "metadata": {
    "id": "oQq1PHDkxDvN",
    "scrolled": false
   },
   "outputs": [
    {
     "name": "stdout",
     "output_type": "stream",
     "text": [
      "Epoch 1/10\n",
      "9056/9056 [==============================] - 198s 21ms/step - loss: 5.0920 - accuracy: 0.1977 - val_loss: 4.9973 - val_accuracy: 0.2162\n",
      "Epoch 2/10\n",
      "9056/9056 [==============================] - 193s 21ms/step - loss: 4.5711 - accuracy: 0.2314 - val_loss: 4.9501 - val_accuracy: 0.2280\n",
      "Epoch 3/10\n",
      "9056/9056 [==============================] - 201s 22ms/step - loss: 4.3573 - accuracy: 0.2417 - val_loss: 4.9703 - val_accuracy: 0.2299\n",
      "Epoch 4/10\n",
      "9056/9056 [==============================] - 211s 23ms/step - loss: 4.2078 - accuracy: 0.2478 - val_loss: 4.9991 - val_accuracy: 0.2336\n",
      "Epoch 5/10\n",
      "9056/9056 [==============================] - 209s 23ms/step - loss: 4.0927 - accuracy: 0.2532 - val_loss: 5.0747 - val_accuracy: 0.2348\n",
      "Epoch 6/10\n",
      "9056/9056 [==============================] - 194s 21ms/step - loss: 4.0060 - accuracy: 0.2564 - val_loss: 5.1385 - val_accuracy: 0.2304\n",
      "Epoch 7/10\n",
      "9056/9056 [==============================] - 191s 21ms/step - loss: 3.9321 - accuracy: 0.2602 - val_loss: 5.2195 - val_accuracy: 0.2337\n",
      "Epoch 8/10\n",
      "9056/9056 [==============================] - 192s 21ms/step - loss: 3.8729 - accuracy: 0.2637 - val_loss: 5.2640 - val_accuracy: 0.2347\n",
      "Epoch 9/10\n",
      "9056/9056 [==============================] - 194s 21ms/step - loss: 3.8245 - accuracy: 0.2660 - val_loss: 5.3369 - val_accuracy: 0.2348\n",
      "Epoch 10/10\n",
      "9056/9056 [==============================] - 195s 22ms/step - loss: 3.7831 - accuracy: 0.2677 - val_loss: 5.4248 - val_accuracy: 0.2345\n"
     ]
    }
   ],
   "source": [
    "hist = model.fit(X, y, epochs = 10, validation_split = 0.2)"
   ]
  },
  {
   "cell_type": "code",
   "execution_count": 26,
   "metadata": {
    "id": "q_orBXOrCsNn"
   },
   "outputs": [
    {
     "data": {
      "image/png": "[encoded data removed]",
      "text/plain": [
       "<Figure size 1000x500 with 1 Axes>"
      ]
     },
     "metadata": {},
     "output_type": "display_data"
    }
   ],
   "source": [
    "# Plot de accuracy en funcion de las epochs\n",
    "epoch_count = range(1, len(hist.history['accuracy']) + 1)\n",
    "plt.figure(figsize=(10, 5))\n",
    "sns.lineplot(x=epoch_count,  y=hist.history['accuracy'], label='train')\n",
    "sns.lineplot(x=epoch_count,  y=hist.history['val_accuracy'], label='valid')\n",
    "plt.xlabel(\"Epoch\")\n",
    "plt.ylabel(\"Accuracy\")\n",
    "plt.show()"
   ]
  },
  {
   "cell_type": "markdown",
   "metadata": {
    "id": "KN6Fg_BsxJe6"
   },
   "source": [
    "### 4 - Predicción de próxima palabra"
   ]
  },
  {
   "cell_type": "code",
   "execution_count": 27,
   "metadata": {
    "id": "HNyBykvhzs7-"
   },
   "outputs": [],
   "source": [
    "def model_response(human_text):\n",
    "    # Encoding\n",
    "    encoded = tok.texts_to_sequences([human_text])[0]\n",
    "    # Si tienen distinto largo\n",
    "    encoded = pad_sequences([encoded], maxlen=3, padding='pre')\n",
    "    # Predicción softmax\n",
    "    y_hat = model.predict(encoded, verbose=0).argmax(axis=-1)\n",
    "    # Debemos buscar en el vocabulario la palabra que corresopnde al indice (y_hat) predicho por le modelo\n",
    "    out_word = ''\n",
    "    for word, index in tok.word_index.items():\n",
    "        if index == y_hat:\n",
    "            out_word = word\n",
    "            break\n",
    "\n",
    "    # Agrego la palabra a la frase predicha\n",
    "    return human_text + ' ' + out_word"
   ]
  },
  {
   "cell_type": "code",
   "execution_count": 28,
   "metadata": {},
   "outputs": [
    {
     "data": {
      "text/plain": [
       "'you have to repeat it of'"
      ]
     },
     "execution_count": 28,
     "metadata": {},
     "output_type": "execute_result"
    }
   ],
   "source": [
    "model_response(\"you have to repeat it\")"
   ]
  },
  {
   "cell_type": "code",
   "execution_count": 31,
   "metadata": {},
   "outputs": [
    {
     "data": {
      "text/plain": [
       "'first, breathe it in'"
      ]
     },
     "execution_count": 31,
     "metadata": {},
     "output_type": "execute_result"
    }
   ],
   "source": [
    "model_response(\"first, breathe it\")"
   ]
  },
  {
   "cell_type": "code",
   "execution_count": 35,
   "metadata": {},
   "outputs": [
    {
     "data": {
      "text/plain": [
       "'we have red or'"
      ]
     },
     "execution_count": 35,
     "metadata": {},
     "output_type": "execute_result"
    }
   ],
   "source": [
    "model_response(\"we have red\")"
   ]
  },
  {
   "cell_type": "code",
   "execution_count": 36,
   "metadata": {},
   "outputs": [
    {
     "data": {
      "text/plain": [
       "'when the auricles and ventricles of'"
      ]
     },
     "execution_count": 36,
     "metadata": {},
     "output_type": "execute_result"
    }
   ],
   "source": [
    "model_response(\"when the auricles and ventricles\")"
   ]
  },
  {
   "cell_type": "code",
   "execution_count": 37,
   "metadata": {},
   "outputs": [
    {
     "data": {
      "text/plain": [
       "'It is to this and'"
      ]
     },
     "execution_count": 37,
     "metadata": {},
     "output_type": "execute_result"
    }
   ],
   "source": [
    "model_response(\"It is to this\")"
   ]
  },
  {
   "cell_type": "code",
   "execution_count": 41,
   "metadata": {},
   "outputs": [
    {
     "data": {
      "text/plain": [
       "'the fleshy parietes in'"
      ]
     },
     "execution_count": 41,
     "metadata": {},
     "output_type": "execute_result"
    }
   ],
   "source": [
    "model_response(\"the fleshy parietes\")"
   ]
  },
  {
   "cell_type": "code",
   "execution_count": 98,
   "metadata": {},
   "outputs": [
    {
     "data": {
      "text/plain": [
       "'have a mucous synovial'"
      ]
     },
     "execution_count": 98,
     "metadata": {},
     "output_type": "execute_result"
    }
   ],
   "source": [
    "model_response(\"have a mucous\")"
   ]
  },
  {
   "cell_type": "markdown",
   "metadata": {},
   "source": [
    "A excepción de 'have a mucous synovial', la próxima palabra predicha podría llegar a ser correcta/tener sentido."
   ]
  },
  {
   "cell_type": "markdown",
   "metadata": {
    "id": "mCeMWWupxN1-"
   },
   "source": [
    "### 5 - Generación de secuencias nuevas"
   ]
  },
  {
   "cell_type": "code",
   "execution_count": 44,
   "metadata": {
    "id": "bwbS_pfhxvB3"
   },
   "outputs": [],
   "source": [
    "def generate_seq(model, tokenizer, seed_text, max_length, n_words):\n",
    "    \"\"\"\n",
    "        Exec model sequence prediction\n",
    "\n",
    "        Args:\n",
    "            model (keras): modelo entrenado\n",
    "            tokenizer (keras tokenizer): tonenizer utilizado en el preprocesamiento\n",
    "            seed_text (string): texto de entrada (input_seq)\n",
    "            max_length (int): máxima longitud de la sequencia de entrada\n",
    "            n_words (int): números de palabras a agregar a la sequencia de entrada\n",
    "        returns:\n",
    "            output_text (string): sentencia con las \"n_words\" agregadas\n",
    "    \"\"\"\n",
    "    output_text = seed_text\n",
    "\t# generate a fixed number of words\n",
    "    for _ in range(n_words):\n",
    "\t\t# Encodeamos\n",
    "        encoded = tokenizer.texts_to_sequences([output_text])[0]\n",
    "\t\t# Si tienen distinto largo\n",
    "        encoded = pad_sequences([encoded], maxlen=max_length, padding='pre')\n",
    "\t\t\n",
    "\t\t# Predicción softmax\n",
    "        y_hat = model.predict(encoded).argmax(axis=-1)\n",
    "\t\t# Vamos concatenando las predicciones\n",
    "        out_word = ''\n",
    "\n",
    "        # Debemos buscar en el vocabulario la palabra\n",
    "        # que corresopnde al indice (y_hat) predicho por le modelo\n",
    "        for word, index in tokenizer.word_index.items():\n",
    "            if index == y_hat:\n",
    "                out_word = word\n",
    "                break\n",
    "\n",
    "\t\t# Agrego las palabras a la frase predicha\n",
    "        output_text += ' ' + out_word\n",
    "    return output_text"
   ]
  },
  {
   "cell_type": "code",
   "execution_count": 100,
   "metadata": {
    "id": "JoFqRC5pxzqS",
    "scrolled": true
   },
   "outputs": [
    {
     "name": "stdout",
     "output_type": "stream",
     "text": [
      "1/1 [==============================] - 0s 26ms/step\n",
      "1/1 [==============================] - 0s 29ms/step\n",
      "1/1 [==============================] - 0s 28ms/step\n",
      "1/1 [==============================] - 0s 29ms/step\n"
     ]
    },
    {
     "data": {
      "text/plain": [
       "'which they have mucous to these sometimes'"
      ]
     },
     "execution_count": 100,
     "metadata": {},
     "output_type": "execute_result"
    }
   ],
   "source": [
    "input_text=\"which they have\"\n",
    "\n",
    "generate_seq(model, tok, input_text, max_length=3, n_words=4)"
   ]
  },
  {
   "cell_type": "code",
   "execution_count": 108,
   "metadata": {
    "scrolled": true
   },
   "outputs": [
    {
     "name": "stdout",
     "output_type": "stream",
     "text": [
      "1/1 [==============================] - 0s 24ms/step\n",
      "1/1 [==============================] - 0s 28ms/step\n",
      "1/1 [==============================] - 0s 29ms/step\n",
      "1/1 [==============================] - 0s 30ms/step\n",
      "1/1 [==============================] - 0s 29ms/step\n",
      "1/1 [==============================] - 0s 31ms/step\n",
      "1/1 [==============================] - 0s 29ms/step\n",
      "1/1 [==============================] - 0s 16ms/step\n",
      "1/1 [==============================] - 0s 24ms/step\n"
     ]
    },
    {
     "data": {
      "text/plain": [
       "'repeat it now that the see the accumulate the pellicle to'"
      ]
     },
     "execution_count": 108,
     "metadata": {},
     "output_type": "execute_result"
    }
   ],
   "source": [
    "input_text=\"repeat it now\"\n",
    "\n",
    "generate_seq(model, tok, input_text, max_length=3, n_words=8)"
   ]
  },
  {
   "cell_type": "markdown",
   "metadata": {
    "id": "T2SHmXbgxQH9"
   },
   "source": [
    "### 6 - Conclusiones\n",
    "El modelo entrenado mostró un rendimiento deficiente durante el entrenamiento, evidenciando problemas de sobreajuste. Además, se puede observar que los resultados no tienen muchos sentido. \n",
    "\n",
    "Se realizaron varios intentos para abordar este problema. En primer lugar, se redujo el valor de `train_len` para trabajar con secuencias de entrada de solo 2 palabras, con la esperanza de mejorar el desempeño del modelo. Sin embargo, esta modificación no produjo una mejora significativa en los resultados.\n",
    "\n",
    "Posteriormente, se llevaron a cabo pruebas adicionales que incluyeron la combinación de múltiples capas Bidirectional LSTM, así como la combinación de capas LSTM, densas y dropout. Además, se incrementó el número de épocas de entrenamiento hasta alcanzar 100. Lamentablemente, ninguna de estas combinaciones logró obtener una precisión superior al 0.2.\n",
    "\n",
    "Considerando que se están utilizando embeddings personalizados para el entrenamiento, se concluye que, para lograr mejoras sustanciales en las métricas y resultados, se requeriría utilizar un corpus de datos considerablemente más amplio. Esto permitiría al modelo aprender patrones y características más representativas y, potencialmente, mejorar su capacidad predictiva."
   ]
  }
 ],
 "metadata": {
  "accelerator": "GPU",
  "colab": {
   "authorship_tag": "ABX9TyOkfjJIpCd091Vpf71hUImQ",
   "collapsed_sections": [],
   "name": "4d - predicción_palabra.ipynb",
   "provenance": []
  },
  "kernelspec": {
   "display_name": "Python 3 (ipykernel)",
   "language": "python",
   "name": "python3"
  },
  "language_info": {
   "codemirror_mode": {
    "name": "ipython",
    "version": 3
   },
   "file_extension": ".py",
   "mimetype": "text/x-python",
   "name": "python",
   "nbconvert_exporter": "python",
   "pygments_lexer": "ipython3",
   "version": "3.9.16"
  }
 },
 "nbformat": 4,
 "nbformat_minor": 1
}
