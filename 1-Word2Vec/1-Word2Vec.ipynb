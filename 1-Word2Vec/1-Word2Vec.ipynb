{
 "cells": [
  {
   "cell_type": "markdown",
   "metadata": {
    "id": "Ue5hxxkdAQJg"
   },
   "source": [
    "<img src=\"https://github.com/FIUBA-Posgrado-Inteligencia-Artificial/procesamiento_lenguaje_natural/raw/main/logoFIUBA.jpg\" width=\"500\" align=\"center\">\n",
    "\n",
    "\n",
    "# Procesamiento de lenguaje natural\n",
    "## Vectorización\n"
   ]
  },
  {
   "cell_type": "code",
   "execution_count": 1,
   "metadata": {
    "id": "kCED1hh-Ioyf"
   },
   "outputs": [],
   "source": [
    "import numpy as np\n",
    "import pandas as pd"
   ]
  },
  {
   "cell_type": "code",
   "execution_count": 2,
   "metadata": {
    "id": "PUbfVnzIIoMj"
   },
   "outputs": [],
   "source": [
    "def cosine_similarity(a, b):\n",
    "    return np.dot(a, b) / (np.linalg.norm(a) * (np.linalg.norm(b)))"
   ]
  },
  {
   "cell_type": "markdown",
   "metadata": {
    "id": "DMOa4JPSCJ29"
   },
   "source": [
    "### Datos"
   ]
  },
  {
   "cell_type": "code",
   "execution_count": 3,
   "metadata": {
    "id": "RIO7b8GjAC17"
   },
   "outputs": [],
   "source": [
    "corpus = np.array(['que dia es hoy', 'martes el dia de hoy es martes', 'martes muchas gracias'])"
   ]
  },
  {
   "cell_type": "markdown",
   "metadata": {
    "id": "8WqdaTmO8P1r"
   },
   "source": [
    "Documento 1 --> que dia es hoy \\\n",
    "Documento 2 --> martes el dia de hoy es martes \\\n",
    "Documento 3 --> martes muchas gracias"
   ]
  },
  {
   "cell_type": "markdown",
   "metadata": {
    "id": "FVHxBRNzCMOS"
   },
   "source": [
    "### 1 - Obtener el vocabulario del corpus (los términos utilizados)\n",
    "- Cada documento transformarlo en una lista de términos\n",
    "- Armar un vector de términos no repetidos de todos los documentos"
   ]
  },
  {
   "cell_type": "code",
   "execution_count": 4,
   "metadata": {},
   "outputs": [],
   "source": [
    "def vocabulary(corpus):\n",
    "    # 1. Genero vocabulario con todos los documentos\n",
    "    # 2. Elimino términos repetidos convirtiendo a un set\n",
    "    vocab = set([word for doc in corpus for word in doc.split()])\n",
    "    return vocab"
   ]
  },
  {
   "cell_type": "code",
   "execution_count": 5,
   "metadata": {},
   "outputs": [
    {
     "name": "stdout",
     "output_type": "stream",
     "text": [
      "-----------------------------------\n",
      "VOCABULARIO DEL CORPUS\n",
      "-----------------------------------\n",
      "martes\n",
      "de\n",
      "dia\n",
      "gracias\n",
      "muchas\n",
      "que\n",
      "el\n",
      "es\n",
      "hoy\n"
     ]
    }
   ],
   "source": [
    "vocab = vocabulary(corpus)\n",
    "print('-'*35 + '\\nVOCABULARIO DEL CORPUS\\n'+'-'*35)\n",
    "print('\\n'.join(vocab))"
   ]
  },
  {
   "cell_type": "markdown",
   "metadata": {
    "id": "RUhH983FI7It"
   },
   "source": [
    "### 2- OneHot encoding\n",
    "Data una lista de textos, devolver una matriz con la representación oneHotEncoding de estos"
   ]
  },
  {
   "cell_type": "code",
   "execution_count": 6,
   "metadata": {
    "id": "Os0AAQo6I6Z1"
   },
   "outputs": [],
   "source": [
    "def one_hot_encoding(corpus, visual = False):\n",
    "    # Creo vocabulario del corpus\n",
    "    vocab = list(vocabulary(corpus))\n",
    "    # Inicializo matriz One Hot Encoding\n",
    "    one_hot_mat = []\n",
    "    \n",
    "    for doc in corpus:\n",
    "        # Separo documento en términos\n",
    "        doc_terms = doc.split()\n",
    "        doc_encoding = []\n",
    "        for term in doc_terms:\n",
    "            # Agrego un 1 en el índice del término y 0's en el resto de los índices\n",
    "            doc_encoding.append(np.eye(len(vocab))[vocab.index(term)])\n",
    "        one_hot_mat.append(np.array(doc_encoding))\n",
    "        if visual == True:\n",
    "            print(\"Documento:\\n\", doc)\n",
    "            print(\"\\nOne Hot Encoding:\\n\", np.array2string(np.array(doc_encoding), prefix=''))\n",
    "            print(\"-\"*35)\n",
    "    if visual == False:\n",
    "        return one_hot_mat"
   ]
  },
  {
   "cell_type": "code",
   "execution_count": 7,
   "metadata": {},
   "outputs": [
    {
     "data": {
      "text/html": [
       "<div>\n",
       "<style scoped>\n",
       "    .dataframe tbody tr th:only-of-type {\n",
       "        vertical-align: middle;\n",
       "    }\n",
       "\n",
       "    .dataframe tbody tr th {\n",
       "        vertical-align: top;\n",
       "    }\n",
       "\n",
       "    .dataframe thead th {\n",
       "        text-align: right;\n",
       "    }\n",
       "</style>\n",
       "<table border=\"1\" class=\"dataframe\">\n",
       "  <thead>\n",
       "    <tr style=\"text-align: right;\">\n",
       "      <th></th>\n",
       "      <th>Índice del término</th>\n",
       "    </tr>\n",
       "  </thead>\n",
       "  <tbody>\n",
       "    <tr>\n",
       "      <th>martes</th>\n",
       "      <td>0</td>\n",
       "    </tr>\n",
       "    <tr>\n",
       "      <th>de</th>\n",
       "      <td>1</td>\n",
       "    </tr>\n",
       "    <tr>\n",
       "      <th>dia</th>\n",
       "      <td>2</td>\n",
       "    </tr>\n",
       "    <tr>\n",
       "      <th>gracias</th>\n",
       "      <td>3</td>\n",
       "    </tr>\n",
       "    <tr>\n",
       "      <th>muchas</th>\n",
       "      <td>4</td>\n",
       "    </tr>\n",
       "    <tr>\n",
       "      <th>que</th>\n",
       "      <td>5</td>\n",
       "    </tr>\n",
       "    <tr>\n",
       "      <th>el</th>\n",
       "      <td>6</td>\n",
       "    </tr>\n",
       "    <tr>\n",
       "      <th>es</th>\n",
       "      <td>7</td>\n",
       "    </tr>\n",
       "    <tr>\n",
       "      <th>hoy</th>\n",
       "      <td>8</td>\n",
       "    </tr>\n",
       "  </tbody>\n",
       "</table>\n",
       "</div>"
      ],
      "text/plain": [
       "         Índice del término\n",
       "martes                    0\n",
       "de                        1\n",
       "dia                       2\n",
       "gracias                   3\n",
       "muchas                    4\n",
       "que                       5\n",
       "el                        6\n",
       "es                        7\n",
       "hoy                       8"
      ]
     },
     "execution_count": 7,
     "metadata": {},
     "output_type": "execute_result"
    }
   ],
   "source": [
    "# Imprimo Dataframe con términos y el índice que le corresponde \n",
    "vocab = list(vocabulary(corpus))\n",
    "pd.DataFrame(list(range(len(vocab))),\n",
    "             index=vocab,\n",
    "             columns=['Índice del término'])"
   ]
  },
  {
   "cell_type": "code",
   "execution_count": 8,
   "metadata": {},
   "outputs": [
    {
     "name": "stdout",
     "output_type": "stream",
     "text": [
      "Documento:\n",
      " que dia es hoy\n",
      "\n",
      "One Hot Encoding:\n",
      " [[0. 0. 0. 0. 0. 1. 0. 0. 0.]\n",
      " [0. 0. 1. 0. 0. 0. 0. 0. 0.]\n",
      " [0. 0. 0. 0. 0. 0. 0. 1. 0.]\n",
      " [0. 0. 0. 0. 0. 0. 0. 0. 1.]]\n",
      "-----------------------------------\n",
      "Documento:\n",
      " martes el dia de hoy es martes\n",
      "\n",
      "One Hot Encoding:\n",
      " [[1. 0. 0. 0. 0. 0. 0. 0. 0.]\n",
      " [0. 0. 0. 0. 0. 0. 1. 0. 0.]\n",
      " [0. 0. 1. 0. 0. 0. 0. 0. 0.]\n",
      " [0. 1. 0. 0. 0. 0. 0. 0. 0.]\n",
      " [0. 0. 0. 0. 0. 0. 0. 0. 1.]\n",
      " [0. 0. 0. 0. 0. 0. 0. 1. 0.]\n",
      " [1. 0. 0. 0. 0. 0. 0. 0. 0.]]\n",
      "-----------------------------------\n",
      "Documento:\n",
      " martes muchas gracias\n",
      "\n",
      "One Hot Encoding:\n",
      " [[1. 0. 0. 0. 0. 0. 0. 0. 0.]\n",
      " [0. 0. 0. 0. 1. 0. 0. 0. 0.]\n",
      " [0. 0. 0. 1. 0. 0. 0. 0. 0.]]\n",
      "-----------------------------------\n"
     ]
    }
   ],
   "source": [
    "# Resultado de la función one_hot_encoding\n",
    "one_hot_encoding(corpus, visual = True)"
   ]
  },
  {
   "cell_type": "code",
   "execution_count": 9,
   "metadata": {
    "scrolled": true
   },
   "outputs": [
    {
     "data": {
      "text/html": [
       "<div>\n",
       "<style scoped>\n",
       "    .dataframe tbody tr th:only-of-type {\n",
       "        vertical-align: middle;\n",
       "    }\n",
       "\n",
       "    .dataframe tbody tr th {\n",
       "        vertical-align: top;\n",
       "    }\n",
       "\n",
       "    .dataframe thead th {\n",
       "        text-align: right;\n",
       "    }\n",
       "</style>\n",
       "<table border=\"1\" class=\"dataframe\">\n",
       "  <thead>\n",
       "    <tr style=\"text-align: right;\">\n",
       "      <th></th>\n",
       "      <th>martes</th>\n",
       "      <th>de</th>\n",
       "      <th>dia</th>\n",
       "      <th>gracias</th>\n",
       "      <th>muchas</th>\n",
       "      <th>que</th>\n",
       "      <th>el</th>\n",
       "      <th>es</th>\n",
       "      <th>hoy</th>\n",
       "    </tr>\n",
       "  </thead>\n",
       "  <tbody>\n",
       "    <tr>\n",
       "      <th>que dia es hoy</th>\n",
       "      <td>0</td>\n",
       "      <td>0</td>\n",
       "      <td>1</td>\n",
       "      <td>0</td>\n",
       "      <td>0</td>\n",
       "      <td>1</td>\n",
       "      <td>0</td>\n",
       "      <td>1</td>\n",
       "      <td>1</td>\n",
       "    </tr>\n",
       "    <tr>\n",
       "      <th>martes el dia de hoy es martes</th>\n",
       "      <td>1</td>\n",
       "      <td>1</td>\n",
       "      <td>1</td>\n",
       "      <td>0</td>\n",
       "      <td>0</td>\n",
       "      <td>0</td>\n",
       "      <td>1</td>\n",
       "      <td>1</td>\n",
       "      <td>1</td>\n",
       "    </tr>\n",
       "    <tr>\n",
       "      <th>martes muchas gracias</th>\n",
       "      <td>1</td>\n",
       "      <td>0</td>\n",
       "      <td>0</td>\n",
       "      <td>1</td>\n",
       "      <td>1</td>\n",
       "      <td>0</td>\n",
       "      <td>0</td>\n",
       "      <td>0</td>\n",
       "      <td>0</td>\n",
       "    </tr>\n",
       "  </tbody>\n",
       "</table>\n",
       "</div>"
      ],
      "text/plain": [
       "                                martes  de  dia  gracias  muchas  que  el  es  \\\n",
       "que dia es hoy                       0   0    1        0       0    1   0   1   \n",
       "martes el dia de hoy es martes       1   1    1        0       0    0   1   1   \n",
       "martes muchas gracias                1   0    0        1       1    0   0   0   \n",
       "\n",
       "                                hoy  \n",
       "que dia es hoy                    1  \n",
       "martes el dia de hoy es martes    1  \n",
       "martes muchas gracias             0  "
      ]
     },
     "execution_count": 9,
     "metadata": {},
     "output_type": "execute_result"
    }
   ],
   "source": [
    "# Creo dataframe para visualizar los resultados de one_hot_encoding\n",
    "one_hot_mat = one_hot_encoding(corpus)\n",
    "encoded = []\n",
    "for doc in one_hot_mat:\n",
    "    # Si alguno de los vectores tiene un 1, asigno 1. Si no, asigno 0.\n",
    "    one_hot = np.any(doc, axis=0).astype(int)\n",
    "    encoded.append(one_hot) \n",
    "    \n",
    "pd.DataFrame(encoded, \n",
    "             index=corpus, \n",
    "             columns=vocab)"
   ]
  },
  {
   "cell_type": "markdown",
   "metadata": {
    "id": "IIyWGmCpJVQL"
   },
   "source": [
    "### 3- Vectores de frecuencia\n",
    "Data una lista de textos, devolver una matriz con la representación de frecuencia de estos"
   ]
  },
  {
   "cell_type": "code",
   "execution_count": 10,
   "metadata": {
    "id": "yqij_7eHJbUi"
   },
   "outputs": [],
   "source": [
    "def frequency_vector(corpus):\n",
    "    # Calculo matriz one_hot encoded\n",
    "    one_hot_mat = one_hot_encoding(corpus)\n",
    "    freq = []\n",
    "    for doc in one_hot_mat:\n",
    "        # Sumo cantidad de ocurrencias de cada término en un documento\n",
    "        one_hot = np.sum(doc, axis=0).astype(int)\n",
    "        freq.append(one_hot) \n",
    "    return np.array(freq)"
   ]
  },
  {
   "cell_type": "code",
   "execution_count": 11,
   "metadata": {},
   "outputs": [
    {
     "data": {
      "text/plain": [
       "array([[0, 0, 1, 0, 0, 1, 0, 1, 1],\n",
       "       [2, 1, 1, 0, 0, 0, 1, 1, 1],\n",
       "       [1, 0, 0, 1, 1, 0, 0, 0, 0]])"
      ]
     },
     "execution_count": 11,
     "metadata": {},
     "output_type": "execute_result"
    }
   ],
   "source": [
    "# Imprimo resultado de la función\n",
    "frequency_vector(corpus)"
   ]
  },
  {
   "cell_type": "code",
   "execution_count": 12,
   "metadata": {},
   "outputs": [
    {
     "data": {
      "text/html": [
       "<div>\n",
       "<style scoped>\n",
       "    .dataframe tbody tr th:only-of-type {\n",
       "        vertical-align: middle;\n",
       "    }\n",
       "\n",
       "    .dataframe tbody tr th {\n",
       "        vertical-align: top;\n",
       "    }\n",
       "\n",
       "    .dataframe thead th {\n",
       "        text-align: right;\n",
       "    }\n",
       "</style>\n",
       "<table border=\"1\" class=\"dataframe\">\n",
       "  <thead>\n",
       "    <tr style=\"text-align: right;\">\n",
       "      <th></th>\n",
       "      <th>martes</th>\n",
       "      <th>de</th>\n",
       "      <th>dia</th>\n",
       "      <th>gracias</th>\n",
       "      <th>muchas</th>\n",
       "      <th>que</th>\n",
       "      <th>el</th>\n",
       "      <th>es</th>\n",
       "      <th>hoy</th>\n",
       "    </tr>\n",
       "  </thead>\n",
       "  <tbody>\n",
       "    <tr>\n",
       "      <th>que dia es hoy</th>\n",
       "      <td>0</td>\n",
       "      <td>0</td>\n",
       "      <td>1</td>\n",
       "      <td>0</td>\n",
       "      <td>0</td>\n",
       "      <td>1</td>\n",
       "      <td>0</td>\n",
       "      <td>1</td>\n",
       "      <td>1</td>\n",
       "    </tr>\n",
       "    <tr>\n",
       "      <th>martes el dia de hoy es martes</th>\n",
       "      <td>2</td>\n",
       "      <td>1</td>\n",
       "      <td>1</td>\n",
       "      <td>0</td>\n",
       "      <td>0</td>\n",
       "      <td>0</td>\n",
       "      <td>1</td>\n",
       "      <td>1</td>\n",
       "      <td>1</td>\n",
       "    </tr>\n",
       "    <tr>\n",
       "      <th>martes muchas gracias</th>\n",
       "      <td>1</td>\n",
       "      <td>0</td>\n",
       "      <td>0</td>\n",
       "      <td>1</td>\n",
       "      <td>1</td>\n",
       "      <td>0</td>\n",
       "      <td>0</td>\n",
       "      <td>0</td>\n",
       "      <td>0</td>\n",
       "    </tr>\n",
       "  </tbody>\n",
       "</table>\n",
       "</div>"
      ],
      "text/plain": [
       "                                martes  de  dia  gracias  muchas  que  el  es  \\\n",
       "que dia es hoy                       0   0    1        0       0    1   0   1   \n",
       "martes el dia de hoy es martes       2   1    1        0       0    0   1   1   \n",
       "martes muchas gracias                1   0    0        1       1    0   0   0   \n",
       "\n",
       "                                hoy  \n",
       "que dia es hoy                    1  \n",
       "martes el dia de hoy es martes    1  \n",
       "martes muchas gracias             0  "
      ]
     },
     "execution_count": 12,
     "metadata": {},
     "output_type": "execute_result"
    }
   ],
   "source": [
    "# Creo dataframe para visualizar los resultados de frequency_vector\n",
    "freq = frequency_vector(corpus)\n",
    "\n",
    "pd.DataFrame(freq, \n",
    "             index=corpus, \n",
    "             columns=vocab)"
   ]
  },
  {
   "cell_type": "markdown",
   "metadata": {
    "id": "z_Ot8HvWJcBu"
   },
   "source": [
    "### 4- TF-IDF\n",
    "Data una lista de textos, devolver una matriz con la representacion TFIDF"
   ]
  },
  {
   "cell_type": "markdown",
   "metadata": {},
   "source": [
    "$TF-IDF$ se utiliza como indicador de cuán importante es un término en un documento. Se define como:\n",
    "$$\n",
    "TF-IDF_{(n,d)} = TF_{(n,d)}\\ x \\ IDF_{(n)}\n",
    "$$\n",
    "\n",
    "donde:\n",
    "- $TF$ es la frecuencia de aparición de un término (n) en un documento (d)\n",
    "- $IDF$ es el factor definido como: $IDF_{(n)} = log_{10}(\\frac{N}{DF_{(n)}})$,\n",
    "    donde $N$ es el número total de documentos de la colección y $DF$ es el número de documentos en los que aparece el término (n) a lo largo de toda la colección"
   ]
  },
  {
   "cell_type": "code",
   "execution_count": 13,
   "metadata": {
    "id": "waG_oWtpJjRw"
   },
   "outputs": [],
   "source": [
    "def tf_idf(corpus):\n",
    "    # Hago One Hot Encoding\n",
    "    one_hot_mat = one_hot_encoding(corpus)\n",
    "    encoded = []\n",
    "    for doc in one_hot_mat:\n",
    "        one_hot = np.any(doc, axis=0).astype(int)\n",
    "        encoded.append(one_hot) \n",
    "    # Caluclo IDF\n",
    "    IDF = np.log10(np.divide(corpus.shape[0],\n",
    "                            np.sum(encoded, axis=0).astype(int)))\n",
    "    # Calculo TF-IDF\n",
    "    return frequency_vector(corpus) * IDF"
   ]
  },
  {
   "cell_type": "code",
   "execution_count": 14,
   "metadata": {},
   "outputs": [
    {
     "data": {
      "text/plain": [
       "array([[0.        , 0.        , 0.17609126, 0.        , 0.        ,\n",
       "        0.47712125, 0.        , 0.17609126, 0.17609126],\n",
       "       [0.35218252, 0.47712125, 0.17609126, 0.        , 0.        ,\n",
       "        0.        , 0.47712125, 0.17609126, 0.17609126],\n",
       "       [0.17609126, 0.        , 0.        , 0.47712125, 0.47712125,\n",
       "        0.        , 0.        , 0.        , 0.        ]])"
      ]
     },
     "execution_count": 14,
     "metadata": {},
     "output_type": "execute_result"
    }
   ],
   "source": [
    "# Imprimo resultado de la función\n",
    "tf_idf(corpus)"
   ]
  },
  {
   "cell_type": "code",
   "execution_count": 16,
   "metadata": {},
   "outputs": [
    {
     "data": {
      "text/html": [
       "<div>\n",
       "<style scoped>\n",
       "    .dataframe tbody tr th:only-of-type {\n",
       "        vertical-align: middle;\n",
       "    }\n",
       "\n",
       "    .dataframe tbody tr th {\n",
       "        vertical-align: top;\n",
       "    }\n",
       "\n",
       "    .dataframe thead th {\n",
       "        text-align: right;\n",
       "    }\n",
       "</style>\n",
       "<table border=\"1\" class=\"dataframe\">\n",
       "  <thead>\n",
       "    <tr style=\"text-align: right;\">\n",
       "      <th></th>\n",
       "      <th>martes</th>\n",
       "      <th>de</th>\n",
       "      <th>dia</th>\n",
       "      <th>gracias</th>\n",
       "      <th>muchas</th>\n",
       "      <th>que</th>\n",
       "      <th>el</th>\n",
       "      <th>es</th>\n",
       "      <th>hoy</th>\n",
       "    </tr>\n",
       "  </thead>\n",
       "  <tbody>\n",
       "    <tr>\n",
       "      <th>que dia es hoy</th>\n",
       "      <td>0.000000</td>\n",
       "      <td>0.000000</td>\n",
       "      <td>0.176091</td>\n",
       "      <td>0.000000</td>\n",
       "      <td>0.000000</td>\n",
       "      <td>0.477121</td>\n",
       "      <td>0.000000</td>\n",
       "      <td>0.176091</td>\n",
       "      <td>0.176091</td>\n",
       "    </tr>\n",
       "    <tr>\n",
       "      <th>martes el dia de hoy es martes</th>\n",
       "      <td>0.352183</td>\n",
       "      <td>0.477121</td>\n",
       "      <td>0.176091</td>\n",
       "      <td>0.000000</td>\n",
       "      <td>0.000000</td>\n",
       "      <td>0.000000</td>\n",
       "      <td>0.477121</td>\n",
       "      <td>0.176091</td>\n",
       "      <td>0.176091</td>\n",
       "    </tr>\n",
       "    <tr>\n",
       "      <th>martes muchas gracias</th>\n",
       "      <td>0.176091</td>\n",
       "      <td>0.000000</td>\n",
       "      <td>0.000000</td>\n",
       "      <td>0.477121</td>\n",
       "      <td>0.477121</td>\n",
       "      <td>0.000000</td>\n",
       "      <td>0.000000</td>\n",
       "      <td>0.000000</td>\n",
       "      <td>0.000000</td>\n",
       "    </tr>\n",
       "  </tbody>\n",
       "</table>\n",
       "</div>"
      ],
      "text/plain": [
       "                                  martes        de       dia   gracias  \\\n",
       "que dia es hoy                  0.000000  0.000000  0.176091  0.000000   \n",
       "martes el dia de hoy es martes  0.352183  0.477121  0.176091  0.000000   \n",
       "martes muchas gracias           0.176091  0.000000  0.000000  0.477121   \n",
       "\n",
       "                                  muchas       que        el        es  \\\n",
       "que dia es hoy                  0.000000  0.477121  0.000000  0.176091   \n",
       "martes el dia de hoy es martes  0.000000  0.000000  0.477121  0.176091   \n",
       "martes muchas gracias           0.477121  0.000000  0.000000  0.000000   \n",
       "\n",
       "                                     hoy  \n",
       "que dia es hoy                  0.176091  \n",
       "martes el dia de hoy es martes  0.176091  \n",
       "martes muchas gracias           0.000000  "
      ]
     },
     "execution_count": 16,
     "metadata": {},
     "output_type": "execute_result"
    }
   ],
   "source": [
    "# Creo dataframe para visualizar los resultados de tf_idf\n",
    "pd.DataFrame(tf_idf(corpus), \n",
    "             index=corpus, \n",
    "             columns=vocab)"
   ]
  },
  {
   "cell_type": "markdown",
   "metadata": {
    "id": "xMcsfndWJjm_"
   },
   "source": [
    "### 5 - Comparación de documentos\n",
    "Realizar una funcion que reciba el corpus y el índice de un documento y devuelva los documentos ordenados por la similitud coseno"
   ]
  },
  {
   "cell_type": "code",
   "execution_count": 17,
   "metadata": {},
   "outputs": [],
   "source": [
    "def compare_docs(corpus, idx):\n",
    "    # Calculo TF-IDF del corpus\n",
    "    TF_IDF = tf_idf(corpus)\n",
    "    # Documento que quiero comparar\n",
    "    doc = TF_IDF[idx]\n",
    "    # Inicializo vector de similitudes\n",
    "    similar = []\n",
    "\n",
    "    for i, doc_i in enumerate(TF_IDF):\n",
    "        if i != idx:\n",
    "            # Si el documento no es el que pasa el usuario, calculo la similitud coseno y almaceno los valores\n",
    "            similarity =  cosine_similarity(doc, doc_i)\n",
    "            similar.append((i, similarity))\n",
    "    # Ordeno por similitud coseno\n",
    "    similar.sort(key=lambda x: x[1], reverse=True)\n",
    "    \n",
    "    \n",
    "    # Imprimo similitud coseno entre el documento que pasa el usuario y los demás documentos del corpus\n",
    "    for doc_idx, similarity in similar:\n",
    "        print(f\"Documento {idx} ({corpus[idx]}) con {doc_idx} ({corpus[doc_idx]}) = {similarity:.4f}\")\n",
    "    \n",
    "    # Retorno documentos ordenados\n",
    "    ordered_docs = [corpus[i] for i, _ in similar]\n",
    "    print(f\"Documentos ordenados por similitud coseno con el documento {idx}: {ordered_docs}\\n\")\n",
    "    return ordered_docs"
   ]
  },
  {
   "cell_type": "code",
   "execution_count": 18,
   "metadata": {},
   "outputs": [
    {
     "name": "stdout",
     "output_type": "stream",
     "text": [
      "--------------------------------------------------\n",
      "SIMILITUD COSENO ENTRE DOCUMENTOS DEL CORPUS\n",
      "--------------------------------------------------\n",
      "Documento 0 (que dia es hoy) con 1 (martes el dia de hoy es martes) = 0.2003\n",
      "Documento 0 (que dia es hoy) con 2 (martes muchas gracias) = 0.0000\n",
      "Documentos ordenados por similitud coseno con el documento 0: ['martes el dia de hoy es martes', 'martes muchas gracias']\n",
      "\n",
      "Documento 1 (martes el dia de hoy es martes) con 0 (que dia es hoy) = 0.2003\n",
      "Documento 1 (martes el dia de hoy es martes) con 2 (martes muchas gracias) = 0.1085\n",
      "Documentos ordenados por similitud coseno con el documento 1: ['que dia es hoy', 'martes muchas gracias']\n",
      "\n",
      "Documento 2 (martes muchas gracias) con 1 (martes el dia de hoy es martes) = 0.1085\n",
      "Documento 2 (martes muchas gracias) con 0 (que dia es hoy) = 0.0000\n",
      "Documentos ordenados por similitud coseno con el documento 2: ['martes el dia de hoy es martes', 'que dia es hoy']\n",
      "\n"
     ]
    }
   ],
   "source": [
    "# Imprimo resultados de la función compare_docs\n",
    "print('-'*50 + '\\nSIMILITUD COSENO ENTRE DOCUMENTOS DEL CORPUS\\n'+'-'*50)\n",
    "for doc in range(3):\n",
    "    ordered_docs = compare_docs(corpus, doc)"
   ]
  }
 ],
 "metadata": {
  "colab": {
   "authorship_tag": "ABX9TyO5fRYTpympAwJSVbric6dW",
   "collapsed_sections": [],
   "name": "1a - word2vec.ipynb",
   "provenance": []
  },
  "kernelspec": {
   "display_name": "Python 3 (ipykernel)",
   "language": "python",
   "name": "python3"
  },
  "language_info": {
   "codemirror_mode": {
    "name": "ipython",
    "version": 3
   },
   "file_extension": ".py",
   "mimetype": "text/x-python",
   "name": "python",
   "nbconvert_exporter": "python",
   "pygments_lexer": "ipython3",
   "version": "3.9.16"
  }
 },
 "nbformat": 4,
 "nbformat_minor": 1
}
